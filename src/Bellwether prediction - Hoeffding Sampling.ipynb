{
 "cells": [
  {
   "cell_type": "markdown",
   "metadata": {},
   "source": [
    "### Using Hoeffding sampling to reduce the data required for training the classifier"
   ]
  },
  {
   "cell_type": "code",
   "execution_count": 1,
   "metadata": {},
   "outputs": [
    {
     "name": "stderr",
     "output_type": "stream",
     "text": [
      "C:\\Users\\USAKNAL\\AppData\\Local\\Continuum\\anaconda3\\lib\\site-packages\\sklearn\\ensemble\\weight_boosting.py:29: DeprecationWarning: numpy.core.umath_tests is an internal NumPy module and should not be imported. It will be removed in a future NumPy release.\n",
      "  from numpy.core.umath_tests import inner1d\n"
     ]
    }
   ],
   "source": [
    "import os, random\n",
    "import numpy as np\n",
    "import pandas as pd\n",
    "from sklearn.ensemble import RandomForestClassifier\n",
    "from sklearn.datasets import make_classification\n",
    "from sklearn.model_selection import train_test_split\n",
    "from sklearn import metrics\n",
    "from sklearn.metrics import confusion_matrix\n",
    "\n",
    "random.seed(10)\n"
   ]
  },
  {
   "cell_type": "code",
   "execution_count": 2,
   "metadata": {},
   "outputs": [],
   "source": [
    "os.getcwd()\n",
    "data_path = \"/defects/src/data/Jureczko/collated_data/\"\n",
    "os.chdir(os.getcwd() + data_path)"
   ]
  },
  {
   "cell_type": "code",
   "execution_count": 3,
   "metadata": {},
   "outputs": [
    {
     "name": "stdout",
     "output_type": "stream",
     "text": [
      "Files: ['ant_merged.csv', 'camel_merged.csv', 'ivy_merged.csv', 'jedit_merged.csv', 'log4j_merged.csv', 'lucene_merged.csv', 'poi_merged.csv', 'velocity_merged.csv', 'xalan_merged.csv', 'xerces_merged.csv']\n",
      "List of projects: ['ant', 'camel', 'ivy', 'jedit', 'log4j', 'lucene', 'poi', 'velocity', 'xalan', 'xerces']\n"
     ]
    }
   ],
   "source": [
    "projList = os.listdir()\n",
    "print(\"Files:\",projList)\n",
    "projs = [p.split('_')[0] for p in projList]\n",
    "print(\"List of projects:\",projs)"
   ]
  },
  {
   "cell_type": "markdown",
   "metadata": {},
   "source": [
    "### Reading the sampling percentages obtained from Hoeffding bounds"
   ]
  },
  {
   "cell_type": "code",
   "execution_count": 4,
   "metadata": {
    "scrolled": true
   },
   "outputs": [
    {
     "data": {
      "text/html": [
       "<div>\n",
       "<style scoped>\n",
       "    .dataframe tbody tr th:only-of-type {\n",
       "        vertical-align: middle;\n",
       "    }\n",
       "\n",
       "    .dataframe tbody tr th {\n",
       "        vertical-align: top;\n",
       "    }\n",
       "\n",
       "    .dataframe thead th {\n",
       "        text-align: right;\n",
       "    }\n",
       "</style>\n",
       "<table border=\"1\" class=\"dataframe\">\n",
       "  <thead>\n",
       "    <tr style=\"text-align: right;\">\n",
       "      <th></th>\n",
       "      <th>projects</th>\n",
       "      <th>ant</th>\n",
       "      <th>camel</th>\n",
       "      <th>ivy</th>\n",
       "      <th>jedit</th>\n",
       "      <th>log4j</th>\n",
       "      <th>lucene</th>\n",
       "      <th>poi</th>\n",
       "      <th>velocity</th>\n",
       "      <th>xalan</th>\n",
       "      <th>xerces</th>\n",
       "    </tr>\n",
       "  </thead>\n",
       "  <tbody>\n",
       "    <tr>\n",
       "      <th>0</th>\n",
       "      <td>ant</td>\n",
       "      <td>0.0</td>\n",
       "      <td>5.0</td>\n",
       "      <td>6.0</td>\n",
       "      <td>7.0</td>\n",
       "      <td>8.0</td>\n",
       "      <td>9.0</td>\n",
       "      <td>10.0</td>\n",
       "      <td>11.0</td>\n",
       "      <td>12.0</td>\n",
       "      <td>13.0</td>\n",
       "    </tr>\n",
       "    <tr>\n",
       "      <th>1</th>\n",
       "      <td>camel</td>\n",
       "      <td>5.0</td>\n",
       "      <td>0.0</td>\n",
       "      <td>6.0</td>\n",
       "      <td>7.0</td>\n",
       "      <td>8.0</td>\n",
       "      <td>9.0</td>\n",
       "      <td>10.0</td>\n",
       "      <td>11.0</td>\n",
       "      <td>12.0</td>\n",
       "      <td>13.0</td>\n",
       "    </tr>\n",
       "    <tr>\n",
       "      <th>2</th>\n",
       "      <td>ivy</td>\n",
       "      <td>5.0</td>\n",
       "      <td>6.0</td>\n",
       "      <td>0.0</td>\n",
       "      <td>7.0</td>\n",
       "      <td>8.0</td>\n",
       "      <td>9.0</td>\n",
       "      <td>10.0</td>\n",
       "      <td>11.5</td>\n",
       "      <td>12.0</td>\n",
       "      <td>12.5</td>\n",
       "    </tr>\n",
       "    <tr>\n",
       "      <th>3</th>\n",
       "      <td>jedit</td>\n",
       "      <td>5.0</td>\n",
       "      <td>6.0</td>\n",
       "      <td>7.0</td>\n",
       "      <td>0.0</td>\n",
       "      <td>8.0</td>\n",
       "      <td>9.0</td>\n",
       "      <td>10.0</td>\n",
       "      <td>8.0</td>\n",
       "      <td>12.5</td>\n",
       "      <td>12.0</td>\n",
       "    </tr>\n",
       "    <tr>\n",
       "      <th>4</th>\n",
       "      <td>log4j</td>\n",
       "      <td>5.0</td>\n",
       "      <td>6.0</td>\n",
       "      <td>7.0</td>\n",
       "      <td>8.0</td>\n",
       "      <td>0.0</td>\n",
       "      <td>9.0</td>\n",
       "      <td>10.0</td>\n",
       "      <td>11.0</td>\n",
       "      <td>12.0</td>\n",
       "      <td>13.0</td>\n",
       "    </tr>\n",
       "    <tr>\n",
       "      <th>5</th>\n",
       "      <td>lucene</td>\n",
       "      <td>5.0</td>\n",
       "      <td>6.0</td>\n",
       "      <td>7.0</td>\n",
       "      <td>8.0</td>\n",
       "      <td>9.0</td>\n",
       "      <td>0.0</td>\n",
       "      <td>10.0</td>\n",
       "      <td>11.0</td>\n",
       "      <td>12.0</td>\n",
       "      <td>13.0</td>\n",
       "    </tr>\n",
       "    <tr>\n",
       "      <th>6</th>\n",
       "      <td>poi</td>\n",
       "      <td>5.0</td>\n",
       "      <td>6.0</td>\n",
       "      <td>7.0</td>\n",
       "      <td>8.0</td>\n",
       "      <td>9.0</td>\n",
       "      <td>10.0</td>\n",
       "      <td>0.0</td>\n",
       "      <td>11.0</td>\n",
       "      <td>12.0</td>\n",
       "      <td>13.0</td>\n",
       "    </tr>\n",
       "    <tr>\n",
       "      <th>7</th>\n",
       "      <td>velocity</td>\n",
       "      <td>5.0</td>\n",
       "      <td>6.0</td>\n",
       "      <td>7.0</td>\n",
       "      <td>9.0</td>\n",
       "      <td>7.0</td>\n",
       "      <td>10.0</td>\n",
       "      <td>11.0</td>\n",
       "      <td>0.0</td>\n",
       "      <td>12.0</td>\n",
       "      <td>13.0</td>\n",
       "    </tr>\n",
       "    <tr>\n",
       "      <th>8</th>\n",
       "      <td>xalan</td>\n",
       "      <td>5.0</td>\n",
       "      <td>6.0</td>\n",
       "      <td>7.0</td>\n",
       "      <td>8.0</td>\n",
       "      <td>8.5</td>\n",
       "      <td>10.0</td>\n",
       "      <td>11.0</td>\n",
       "      <td>12.0</td>\n",
       "      <td>0.0</td>\n",
       "      <td>13.0</td>\n",
       "    </tr>\n",
       "    <tr>\n",
       "      <th>9</th>\n",
       "      <td>xerces</td>\n",
       "      <td>5.0</td>\n",
       "      <td>7.5</td>\n",
       "      <td>7.0</td>\n",
       "      <td>8.0</td>\n",
       "      <td>8.0</td>\n",
       "      <td>9.5</td>\n",
       "      <td>11.0</td>\n",
       "      <td>12.0</td>\n",
       "      <td>13.0</td>\n",
       "      <td>0.0</td>\n",
       "    </tr>\n",
       "  </tbody>\n",
       "</table>\n",
       "</div>"
      ],
      "text/plain": [
       "   projects  ant  camel  ivy  jedit  log4j  lucene   poi  velocity  xalan  \\\n",
       "0       ant  0.0    5.0  6.0    7.0    8.0     9.0  10.0      11.0   12.0   \n",
       "1     camel  5.0    0.0  6.0    7.0    8.0     9.0  10.0      11.0   12.0   \n",
       "2       ivy  5.0    6.0  0.0    7.0    8.0     9.0  10.0      11.5   12.0   \n",
       "3     jedit  5.0    6.0  7.0    0.0    8.0     9.0  10.0       8.0   12.5   \n",
       "4     log4j  5.0    6.0  7.0    8.0    0.0     9.0  10.0      11.0   12.0   \n",
       "5    lucene  5.0    6.0  7.0    8.0    9.0     0.0  10.0      11.0   12.0   \n",
       "6       poi  5.0    6.0  7.0    8.0    9.0    10.0   0.0      11.0   12.0   \n",
       "7  velocity  5.0    6.0  7.0    9.0    7.0    10.0  11.0       0.0   12.0   \n",
       "8     xalan  5.0    6.0  7.0    8.0    8.5    10.0  11.0      12.0    0.0   \n",
       "9    xerces  5.0    7.5  7.0    8.0    8.0     9.5  11.0      12.0   13.0   \n",
       "\n",
       "   xerces  \n",
       "0    13.0  \n",
       "1    13.0  \n",
       "2    12.5  \n",
       "3    12.0  \n",
       "4    13.0  \n",
       "5    13.0  \n",
       "6    13.0  \n",
       "7    13.0  \n",
       "8    13.0  \n",
       "9     0.0  "
      ]
     },
     "execution_count": 4,
     "metadata": {},
     "output_type": "execute_result"
    }
   ],
   "source": [
    "df_n = pd.read_csv(\"..//samplingResults_n.csv\")\n",
    "fractions = []\n",
    "for i in range(10):\n",
    "    for j in range(10):\n",
    "        fractions.append(df_n.iloc[i][j+1]/100)\n",
    "len(fractions)\n",
    "df_n"
   ]
  },
  {
   "cell_type": "markdown",
   "metadata": {},
   "source": [
    "### Bellwether discovery using Hoeffding bounds and calculating the runtime"
   ]
  },
  {
   "cell_type": "code",
   "execution_count": 5,
   "metadata": {
    "scrolled": true
   },
   "outputs": [],
   "source": [
    "import time\n",
    "\n",
    "def getRuntimes(randomSeed):\n",
    "    random.seed(randomSeed)\n",
    "    #tbl = [[0]*len(projs) for p in projs]\n",
    "    count=-1\n",
    "    startTime = time.time()\n",
    "    for i in range(len(projs)):\n",
    "        #print(\"\\nIteration \",i)\n",
    "        trainData = pd.read_csv(projList[i])\n",
    "\n",
    "        for j in range(len(projs)):\n",
    "            count+=1\n",
    "            if (i != j):\n",
    "                #print(\"Here: \",float(df_n.iloc[i][j+1]/100))\n",
    "                trainData.sample(frac=fractions[count])\n",
    "                X_train = trainData.loc[:,trainData.columns!='$<bug']\n",
    "                y_train = trainData.loc[:,trainData.columns=='$<bug']\n",
    "\n",
    "                testData = pd.read_csv(projList[j])\n",
    "                X_test = testData.loc[:, testData.columns!='$<bug']\n",
    "                y_test = testData.loc[:, testData.columns=='$<bug']\n",
    "                clf = RandomForestClassifier(n_estimators=1000, n_jobs=1)\n",
    "                clf.fit(X_train, y_train.values.ravel())\n",
    "                y_pred = clf.predict(X_test)\n",
    "                cm = confusion_matrix(y_test, y_pred)\n",
    "                recall = cm[1][1]/(cm[1][1] + cm[1][0])\n",
    "                pf = cm[0][1]/(cm[0][1] + cm[0][0])\n",
    "\n",
    "                g = 2/((1/recall) + (1/(1-pf)))\n",
    "\n",
    "                #print(\"Model trained on\",projs[i],\", testing on\",projs[j])\n",
    "                #acc = metrics.accuracy_score(y_test, y_pred)\n",
    "                #print(\"Project: {}, Accuracy: {}, Precision: {}\".format(projs[j],acc,\n",
    "                #                                                       metrics.precision_score(y_test, y_pred)))\n",
    "                tbl[i][j]=g\n",
    "                #print(\"Test Project: {}, G-Score {}\".format(projs[j], g))\n",
    "    print(tbl)\n",
    "    return (time.time() - startTime)"
   ]
  },
  {
   "cell_type": "code",
   "execution_count": null,
   "metadata": {
    "scrolled": false
   },
   "outputs": [],
   "source": [
    "# repeating the process for 30 times\n",
    "runtimes = []\n",
    "for i in range(30):\n",
    "    print(i)\n",
    "    runtimes.append(getRuntimes(i))"
   ]
  },
  {
   "cell_type": "code",
   "execution_count": 7,
   "metadata": {
    "scrolled": true
   },
   "outputs": [
    {
     "data": {
      "text/plain": [
       "[215.2888000011444,\n",
       " 213.28339982032776,\n",
       " 213.3722002506256,\n",
       " 212.66468214988708,\n",
       " 213.51543951034546,\n",
       " 225.45748281478882,\n",
       " 213.79726576805115,\n",
       " 212.6216790676117,\n",
       " 277.16276264190674,\n",
       " 217.06530475616455,\n",
       " 212.72070050239563,\n",
       " 212.80808901786804,\n",
       " 216.19798278808594,\n",
       " 212.26198053359985,\n",
       " 212.39993262290955,\n",
       " 212.60441613197327,\n",
       " 213.21540451049805,\n",
       " 212.7717170715332,\n",
       " 213.1981496810913,\n",
       " 212.75493574142456,\n",
       " 212.8162760734558,\n",
       " 218.50480365753174,\n",
       " 218.9806010723114,\n",
       " 212.95004272460938,\n",
       " 213.10359978675842,\n",
       " 212.50562191009521,\n",
       " 212.88203763961792,\n",
       " 212.26364159584045,\n",
       " 212.54587292671204,\n",
       " 212.3671998977661]"
      ]
     },
     "execution_count": 7,
     "metadata": {},
     "output_type": "execute_result"
    }
   ],
   "source": [
    "runtimes"
   ]
  },
  {
   "cell_type": "code",
   "execution_count": 40,
   "metadata": {
    "scrolled": true
   },
   "outputs": [
    {
     "name": "stdout",
     "output_type": "stream",
     "text": [
      "   projects       ant     camel       ivy     jedit     log4j    lucene  \\\n",
      "0       ant  0.000000  0.101226  0.385596  0.582279  0.109059  0.182377   \n",
      "1     camel  0.398118  0.000000  0.375421  0.505455  0.242442  0.228678   \n",
      "2       ivy  0.209302  0.034955  0.000000  0.276655  0.037732  0.123990   \n",
      "3     jedit  0.157744  0.038393  0.111026  0.000000  0.007663  0.009091   \n",
      "4     log4j  0.257380  0.338042  0.227812  0.236897  0.000000  0.355090   \n",
      "5    lucene  0.462258  0.516806  0.533795  0.483632  0.637914  0.000000   \n",
      "6       poi  0.645508  0.570165  0.649033  0.617694  0.621242  0.624541   \n",
      "7  velocity  0.550314  0.502988  0.458872  0.447936  0.512429  0.454270   \n",
      "8     xalan  0.602899  0.526973  0.587643  0.466730  0.583352  0.578249   \n",
      "9    xerces  0.414248  0.349195  0.429603  0.392750  0.526491  0.525201   \n",
      "\n",
      "        poi  velocity     xalan    xerces  \n",
      "0  0.139191  0.093391  0.254520  0.217013  \n",
      "1  0.202408  0.177863  0.259373  0.246078  \n",
      "2  0.070911  0.047851  0.147351  0.162521  \n",
      "3  0.025139  0.016216  0.062208  0.021179  \n",
      "4  0.301106  0.354055  0.380410  0.458400  \n",
      "5  0.575353  0.559107  0.454077  0.560200  \n",
      "6  0.000000  0.513945  0.546537  0.542432  \n",
      "7  0.402908  0.000000  0.488544  0.528482  \n",
      "8  0.590272  0.538958  0.000000  0.567657  \n",
      "9  0.465450  0.486407  0.404523  0.000000  \n"
     ]
    }
   ],
   "source": [
    "df = pd.DataFrame(tbl)\n",
    "df.columns=projs\n",
    "df.insert(0,'projects',projs)\n",
    "print(df)\n",
    "#print(os.getcwd())\n",
    "df.to_csv(\"..//post_sampling_gscore.csv\",index=False)"
   ]
  },
  {
   "cell_type": "code",
   "execution_count": null,
   "metadata": {},
   "outputs": [],
   "source": []
  }
 ],
 "metadata": {
  "kernelspec": {
   "display_name": "Python 3",
   "language": "python",
   "name": "python3"
  },
  "language_info": {
   "codemirror_mode": {
    "name": "ipython",
    "version": 3
   },
   "file_extension": ".py",
   "mimetype": "text/x-python",
   "name": "python",
   "nbconvert_exporter": "python",
   "pygments_lexer": "ipython3",
   "version": "3.6.8"
  }
 },
 "nbformat": 4,
 "nbformat_minor": 2
}
