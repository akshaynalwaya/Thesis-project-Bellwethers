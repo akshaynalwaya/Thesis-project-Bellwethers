{
 "cells": [
  {
   "cell_type": "code",
   "execution_count": 1,
   "metadata": {},
   "outputs": [
    {
     "data": {
      "text/plain": [
       "'C:\\\\Users\\\\USAKNAL\\\\Desktop\\\\Bellwether-master'"
      ]
     },
     "execution_count": 1,
     "metadata": {},
     "output_type": "execute_result"
    }
   ],
   "source": [
    "import os\n",
    "import pandas as pd\n",
    "os.getcwd()"
   ]
  },
  {
   "cell_type": "code",
   "execution_count": 2,
   "metadata": {},
   "outputs": [],
   "source": [
    "data_path = \"defects\\src\\data\\Jureczko\"\n",
    "os.chdir(os.getcwd() + \"\\\\\" + data_path)"
   ]
  },
  {
   "cell_type": "code",
   "execution_count": 3,
   "metadata": {},
   "outputs": [
    {
     "name": "stdout",
     "output_type": "stream",
     "text": [
      "['ant', 'camel', 'ivy', 'jedit', 'log4j', 'lucene', 'poi', 'velocity', 'xalan', 'xerces']\n",
      "Number of projects:  10\n"
     ]
    }
   ],
   "source": [
    "projects = os.listdir()\n",
    "projects = [item for item in projects if not item.endswith(\".py\")]\n",
    "print(projects)\n",
    "print(\"Number of projects: \",len(projects))"
   ]
  },
  {
   "cell_type": "markdown",
   "metadata": {},
   "source": [
    "### Merging all version files for each project into a single collated dataset per project and modifying the target variable"
   ]
  },
  {
   "cell_type": "code",
   "execution_count": 4,
   "metadata": {
    "scrolled": true
   },
   "outputs": [
    {
     "name": "stdout",
     "output_type": "stream",
     "text": [
      "Created file:  collated_data\\ant_merged.csv\n",
      "Created file:  collated_data\\camel_merged.csv\n",
      "Created file:  collated_data\\ivy_merged.csv\n",
      "Created file:  collated_data\\jedit_merged.csv\n",
      "Created file:  collated_data\\log4j_merged.csv\n",
      "Created file:  collated_data\\lucene_merged.csv\n",
      "Created file:  collated_data\\poi_merged.csv\n",
      "Created file:  collated_data\\velocity_merged.csv\n",
      "Created file:  collated_data\\xalan_merged.csv\n",
      "Created file:  collated_data\\xerces_merged.csv\n"
     ]
    }
   ],
   "source": [
    "collatedDataDirectory = \"collated_data\"\n",
    "if not os.path.exists(collatedDataDirectory):\n",
    "    os.makedirs(collatedDataDirectory)\n",
    "    \n",
    "collatedDataDirectory = \"collated_data\"\n",
    "for proj  in projects:\n",
    "    os.chdir(os.getcwd() + \"\\\\\" + proj)\n",
    "    #print(os.listdir())\n",
    "    data_files = os.listdir()\n",
    "    collatedData = pd.concat([pd.read_csv(f) for f in data_files])\n",
    "    collatedData['$<bug'] = [0 if val == 'F' else 1 for val in collatedData['$<bug']]\n",
    "    fileName = collatedDataDirectory + \"\\\\\" + proj + \"_merged.csv\"\n",
    "    os.chdir(\"..\")\n",
    "    collatedData.to_csv(fileName,index=False)\n",
    "    print(\"Created file: \",fileName)"
   ]
  },
  {
   "cell_type": "code",
   "execution_count": null,
   "metadata": {
    "scrolled": true
   },
   "outputs": [],
   "source": []
  },
  {
   "cell_type": "code",
   "execution_count": null,
   "metadata": {},
   "outputs": [],
   "source": []
  }
 ],
 "metadata": {
  "kernelspec": {
   "display_name": "Python 3",
   "language": "python",
   "name": "python3"
  },
  "language_info": {
   "codemirror_mode": {
    "name": "ipython",
    "version": 3
   },
   "file_extension": ".py",
   "mimetype": "text/x-python",
   "name": "python",
   "nbconvert_exporter": "python",
   "pygments_lexer": "ipython3",
   "version": "3.6.4"
  }
 },
 "nbformat": 4,
 "nbformat_minor": 2
}
