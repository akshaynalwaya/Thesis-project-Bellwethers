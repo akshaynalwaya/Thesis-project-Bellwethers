{
 "cells": [
  {
   "cell_type": "markdown",
   "metadata": {},
   "source": [
    "## Getting baseline values for G-Scores using all the data in using round-robin approach "
   ]
  },
  {
   "cell_type": "code",
   "execution_count": 1,
   "metadata": {},
   "outputs": [
    {
     "name": "stderr",
     "output_type": "stream",
     "text": [
      "C:\\Users\\USAKNAL\\AppData\\Local\\Continuum\\anaconda3\\lib\\site-packages\\sklearn\\ensemble\\weight_boosting.py:29: DeprecationWarning: numpy.core.umath_tests is an internal NumPy module and should not be imported. It will be removed in a future NumPy release.\n",
      "  from numpy.core.umath_tests import inner1d\n"
     ]
    }
   ],
   "source": [
    "#importing the required libraries\n",
    "\n",
    "import os, random\n",
    "import numpy as np\n",
    "import pandas as pd\n",
    "from sklearn.ensemble import RandomForestClassifier\n",
    "from sklearn.datasets import make_classification\n",
    "from sklearn.model_selection import train_test_split\n",
    "from sklearn import metrics\n",
    "from sklearn.metrics import confusion_matrix\n",
    "\n",
    "random.seed(10)"
   ]
  },
  {
   "cell_type": "code",
   "execution_count": 2,
   "metadata": {},
   "outputs": [],
   "source": [
    "os.getcwd()\n",
    "data_path = \"/defects/src/data/Jureczko/collated_data/\"\n",
    "os.chdir(os.getcwd() + data_path)"
   ]
  },
  {
   "cell_type": "code",
   "execution_count": 3,
   "metadata": {},
   "outputs": [
    {
     "name": "stdout",
     "output_type": "stream",
     "text": [
      "List of projects: ['ant', 'camel', 'ivy', 'jedit', 'log4j', 'lucene', 'poi', 'velocity', 'xalan', 'xerces']\n"
     ]
    }
   ],
   "source": [
    "projList = os.listdir()\n",
    "projs = [p.split('_')[0] for p in projList]\n",
    "print(\"List of projects:\",projs)"
   ]
  },
  {
   "cell_type": "markdown",
   "metadata": {},
   "source": [
    "### Code to iteratively train a random forest classifier on a project and test it on all the other projects "
   ]
  },
  {
   "cell_type": "code",
   "execution_count": null,
   "metadata": {
    "scrolled": false
   },
   "outputs": [],
   "source": [
    "\n",
    "tbl = [[0]*len(projs) for p in projs]\n",
    "\n",
    "for i in range(len(projs)):\n",
    "    print(\"\\nIteration \",i)\n",
    "    #fetching the training data\n",
    "    trainData = pd.read_csv(projList[i])    \n",
    "    X_train = trainData.loc[:,trainData.columns!='$<bug']\n",
    "    y_train = trainData.loc[:,trainData.columns=='$<bug']\n",
    "    for j in range(len(projs)):\n",
    "        #making predictions on the other projects\n",
    "        if (i != j):\n",
    "            testData = pd.read_csv(projList[j])\n",
    "            X_test = testData.loc[:, testData.columns!='$<bug']\n",
    "            y_test = testData.loc[:, testData.columns=='$<bug']\n",
    "            \n",
    "            #training the classifier on current project\n",
    "            clf = RandomForestClassifier(n_estimators=1000, n_jobs=1)\n",
    "            clf.fit(X_train, y_train.values.ravel())\n",
    "            y_pred = clf.predict(X_test)\n",
    "            cm = confusion_matrix(y_test, y_pred)\n",
    "            recall = cm[1][1]/(cm[1][1] + cm[1][0])\n",
    "            pf = cm[0][1]/(cm[0][1] + cm[0][0])\n",
    "            #computing the g-score\n",
    "            g = 2/((1/recall) + (1/(1-pf)))\n",
    "            \n",
    "            print(\"Model trained on \",projs[i] + \" \" +  projs[j])\n",
    "            tbl[i][j]=g\n",
    "\n",
    "#printing the final g-score values for all the projects\n",
    "print(tbl)\n"
   ]
  },
  {
   "cell_type": "markdown",
   "metadata": {},
   "source": [
    "### Exporting the results to a csv file"
   ]
  },
  {
   "cell_type": "code",
   "execution_count": null,
   "metadata": {},
   "outputs": [],
   "source": [
    "df = pd.DataFrame(tbl)\n",
    "df.columns=projs\n",
    "df.insert(0,'projects',projs)\n",
    "print(df)\n",
    "#print(os.getcwd())\n",
    "df.to_csv(\"..//baseline_gscore.csv\",index=False)"
   ]
  },
  {
   "cell_type": "code",
   "execution_count": null,
   "metadata": {},
   "outputs": [],
   "source": []
  }
 ],
 "metadata": {
  "kernelspec": {
   "display_name": "Python 3",
   "language": "python",
   "name": "python3"
  },
  "language_info": {
   "codemirror_mode": {
    "name": "ipython",
    "version": 3
   },
   "file_extension": ".py",
   "mimetype": "text/x-python",
   "name": "python",
   "nbconvert_exporter": "python",
   "pygments_lexer": "ipython3",
   "version": "3.7.1"
  }
 },
 "nbformat": 4,
 "nbformat_minor": 2
}
