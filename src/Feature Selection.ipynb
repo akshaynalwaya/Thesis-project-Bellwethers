{
 "cells": [
  {
   "cell_type": "code",
   "execution_count": 13,
   "metadata": {},
   "outputs": [],
   "source": [
    "# Importing libraries\n",
    "\n",
    "import os, csv, random, math\n",
    "import pandas as pd\n",
    "import numpy as np\n",
    "import matplotlib.pyplot as plt\n",
    "from sklearn.feature_selection import SelectKBest\n",
    "from sklearn.feature_selection import chi2\n",
    "\n",
    "from sklearn.ensemble import RandomForestClassifier\n",
    "from sklearn.datasets import make_classification\n",
    "from sklearn.model_selection import train_test_split\n",
    "from sklearn import metrics\n",
    "from sklearn.metrics import confusion_matrix\n",
    "\n",
    "random.seed(10)"
   ]
  },
  {
   "cell_type": "code",
   "execution_count": 2,
   "metadata": {},
   "outputs": [],
   "source": [
    "# path to the data file\n",
    "path = '../defects/data/Jureczko/augmented_data/ant.csv'"
   ]
  },
  {
   "cell_type": "code",
   "execution_count": 3,
   "metadata": {},
   "outputs": [
    {
     "name": "stdout",
     "output_type": "stream",
     "text": [
      "Rows: 2692 \n",
      "Cols: 21\n"
     ]
    }
   ],
   "source": [
    "# reading the data\n",
    "data = pd.read_csv(path)\n",
    "rows, cols = data.shape\n",
    "print(\"Rows:\",rows,\"\\nCols:\",cols)"
   ]
  },
  {
   "cell_type": "markdown",
   "metadata": {},
   "source": [
    "### Forward Selection"
   ]
  },
  {
   "cell_type": "code",
   "execution_count": 48,
   "metadata": {},
   "outputs": [],
   "source": [
    "#Forward feature selection\n",
    "def forwardSelection(X,y):\n",
    "    gScore = pd.DataFrame(columns=['Number of features','gScore'])\n",
    "    rows, cols = X.shape\n",
    "    prevG = 0\n",
    "    for i in range(cols+1):\n",
    "        X_sub = X.iloc[:,:i+1]\n",
    "        #print(\"Selected \",(i+1),\" cols.\",X_sub.shape)\n",
    "        X_train, X_test, y_train, y_test = train_test_split(X_sub, y, test_size=0.33, random_state=42)\n",
    "        \n",
    "        clf = RandomForestClassifier(n_estimators=1000, n_jobs=1)\n",
    "        clf.fit(X_train, y_train.values.ravel())\n",
    "        y_pred = clf.predict(X_test)\n",
    "        cm = confusion_matrix(y_test, y_pred)\n",
    "        recall = cm[1][1]/(cm[1][1] + cm[1][0])\n",
    "        pf = cm[0][1]/(cm[0][1] + cm[0][0])\n",
    "        #computing the g-score\n",
    "        g = 2/((1/recall) + (1/(1-pf)))\n",
    "        delta = g - prevG\n",
    "        if(delta < 0):\n",
    "            break\n",
    "        prevG = g\n",
    "        gScore.loc[i] = [i+1,g]\n",
    "\n",
    "    return gScore\n"
   ]
  },
  {
   "cell_type": "code",
   "execution_count": null,
   "metadata": {},
   "outputs": [],
   "source": []
  },
  {
   "cell_type": "markdown",
   "metadata": {},
   "source": [
    "### Backward Elimination"
   ]
  },
  {
   "cell_type": "code",
   "execution_count": 129,
   "metadata": {},
   "outputs": [],
   "source": [
    "#Backward feature elimination\n",
    "def backwardElimination(X,y):\n",
    "    gScore = pd.DataFrame(columns=['Number of features','gScore'])\n",
    "    rows, cols = X.shape\n",
    "    prevG = 0\n",
    "    for i in range(cols-1):\n",
    "        X_sub = X.iloc[:,0:cols-i]\n",
    "#         print(\"Removed \",i,\" cols.\",X_sub.shape)\n",
    "        X_train, X_test, y_train, y_test = train_test_split(X_sub, y, test_size=0.33, random_state=42)\n",
    "\n",
    "        clf = RandomForestClassifier(n_estimators=1000, n_jobs=1)\n",
    "        clf.fit(X_train, y_train.values.ravel())\n",
    "        y_pred = clf.predict(X_test)\n",
    "        cm = confusion_matrix(y_test, y_pred)\n",
    "        recall = cm[1][1]/(cm[1][1] + cm[1][0])\n",
    "        pf = cm[0][1]/(cm[0][1] + cm[0][0])\n",
    "        #computing the g-score\n",
    "        g = 2/((1/recall) + (1/(1-pf)))\n",
    "        delta = g - prevG\n",
    "        if (delta < 0):\n",
    "            break\n",
    "        prevG = g\n",
    "        gScore.loc[i] = [cols-i,g]\n",
    "\n",
    "    return gScore\n"
   ]
  },
  {
   "cell_type": "code",
   "execution_count": 130,
   "metadata": {
    "scrolled": true
   },
   "outputs": [],
   "source": []
  },
  {
   "cell_type": "code",
   "execution_count": 158,
   "metadata": {
    "scrolled": true
   },
   "outputs": [],
   "source": [
    "def featureSelection(type, X, y):\n",
    "    if (type == 'forward'):\n",
    "        scores = forwardSelection(X,y)\n",
    "    elif (type == 'backward'):\n",
    "        scores = backwardElimination(X,y)\n",
    "    \n",
    "    print(\"Estimated g-Score: \",round(scores.tail(1).iloc[0,1],4))\n",
    "    \n",
    "    plt.plot(scores['Number of features'],scores['gScore'])\n",
    "    plt.xlabel('Number of features')\n",
    "    plt.ylabel('g Score')\n",
    "    plt.grid(linewidth = 0.5)\n",
    "    plt.title(\"Algorithm: \"+type)\n",
    "    plt.show()\n",
    "    "
   ]
  },
  {
   "cell_type": "code",
   "execution_count": 159,
   "metadata": {},
   "outputs": [
    {
     "name": "stdout",
     "output_type": "stream",
     "text": [
      "Estimated g-Score:  0.7046\n"
     ]
    },
    {
     "data": {
      "image/png": "[encoded data removed]",
      "text/plain": [
       "<Figure size 432x288 with 1 Axes>"
      ]
     },
     "metadata": {
      "needs_background": "light"
     },
     "output_type": "display_data"
    }
   ],
   "source": [
    "X = data.loc[:,data.columns!='$<bug']\n",
    "y = data.loc[:,data.columns=='$<bug']  \n",
    "\n",
    "featureSelection('forward',X,y)"
   ]
  },
  {
   "cell_type": "code",
   "execution_count": 160,
   "metadata": {},
   "outputs": [
    {
     "name": "stdout",
     "output_type": "stream",
     "text": [
      "Estimated g-Score:  0.7402\n"
     ]
    },
    {
     "data": {
      "image/png": "[encoded data removed]",
      "text/plain": [
       "<Figure size 432x288 with 1 Axes>"
      ]
     },
     "metadata": {
      "needs_background": "light"
     },
     "output_type": "display_data"
    }
   ],
   "source": [
    "featureSelection('backward',X,y)"
   ]
  },
  {
   "cell_type": "code",
   "execution_count": null,
   "metadata": {},
   "outputs": [],
   "source": []
  },
  {
   "cell_type": "code",
   "execution_count": null,
   "metadata": {},
   "outputs": [],
   "source": []
  },
  {
   "cell_type": "code",
   "execution_count": null,
   "metadata": {},
   "outputs": [],
   "source": []
  },
  {
   "cell_type": "code",
   "execution_count": null,
   "metadata": {},
   "outputs": [],
   "source": []
  },
  {
   "cell_type": "code",
   "execution_count": null,
   "metadata": {},
   "outputs": [],
   "source": []
  },
  {
   "cell_type": "code",
   "execution_count": null,
   "metadata": {},
   "outputs": [],
   "source": []
  },
  {
   "cell_type": "code",
   "execution_count": null,
   "metadata": {},
   "outputs": [],
   "source": []
  }
 ],
 "metadata": {
  "kernelspec": {
   "display_name": "Python 3",
   "language": "python",
   "name": "python3"
  },
  "language_info": {
   "codemirror_mode": {
    "name": "ipython",
    "version": 3
   },
   "file_extension": ".py",
   "mimetype": "text/x-python",
   "name": "python",
   "nbconvert_exporter": "python",
   "pygments_lexer": "ipython3",
   "version": "3.7.1"
  }
 },
 "nbformat": 4,
 "nbformat_minor": 2
}
